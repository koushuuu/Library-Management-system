{
  "nbformat": 4,
  "nbformat_minor": 0,
  "metadata": {
    "colab": {
      "provenance": []
    },
    "kernelspec": {
      "name": "python3",
      "display_name": "Python 3"
    },
    "language_info": {
      "name": "python"
    }
  },
  "cells": [
    {
      "cell_type": "code",
      "source": [
        "\"\"\"\n",
        "Code Contributed by Pavan Vignesh Tirupathi, Esha Arankalle\n",
        "\n",
        "Cisco Employee ID : 1850426, 1850683\n",
        "\n",
        "Email : patirupa@cisco.com, earankal@cisco.com\n",
        "\n",
        "\"\"\""
      ],
      "metadata": {
        "id": "K2SD_JsOk7ye"
      },
      "execution_count": null,
      "outputs": []
    },
    {
      "cell_type": "markdown",
      "source": [],
      "metadata": {
        "id": "OhbRv1NMk9iM"
      }
    },
    {
      "cell_type": "code",
      "source": [
        "# Factory Method Design Pattern\n",
        "# An abstract base class (or interface) for the product\n",
        "class Vehicle:\n",
        "    def create(self):\n",
        "        raise NotImplementedError(\"aaaaaa\") #method overridden by subclasses\n",
        "\n",
        "\n",
        "# An concrete classes that implement the Vehicle interface\n",
        "class Car(Vehicle):\n",
        "    def create(self):\n",
        "        return \"Car created\"\n",
        "\n",
        "class Bike(Vehicle):\n",
        "    def create(self):\n",
        "        return \"Bike created\"\n",
        "\n",
        "\n",
        "# Factory method that returns the correct vehicle based on input\n",
        "class VehicleFactory:\n",
        "    @staticmethod\n",
        "    def get_vehicle(vehicle_type):\n",
        "        if vehicle_type == \"car\":\n",
        "            return Car()\n",
        "        elif vehicle_type == \"bike\":\n",
        "            return Bike()\n",
        "        else:\n",
        "            raise ValueError(f\"Unknown vehicle type: {vehicle_type}\")\n",
        "\n",
        "\n",
        "# Client code that uses the factory method\n",
        "if __name__ == \"__main__\":\n",
        "\n",
        "    # Let's create a car\n",
        "    car = VehicleFactory.get_vehicle(\"car\")\n",
        "    print(car.create())  # Output: \"Car created\"\n",
        "\n",
        "    # Let's create a bike\n",
        "    bike = VehicleFactory.get_vehicle(\"bike\")\n",
        "    print(bike.create())  # Output: \"Bike created\""
      ],
      "metadata": {
        "colab": {
          "base_uri": "https://localhost:8080/"
        },
        "id": "MQvEE1Fu5DTE",
        "outputId": "d6546498-c354-4af3-e9a3-f2e3fce3ecf1"
      },
      "execution_count": null,
      "outputs": [
        {
          "output_type": "stream",
          "name": "stdout",
          "text": [
            "Car created\n",
            "Bike created\n"
          ]
        }
      ]
    },
    {
      "cell_type": "code",
      "source": [
        "# Abstract Factory Method Design Pattern\n",
        "\n",
        "# Abstract Product A\n",
        "class Chair:\n",
        "    def sit_on(self):\n",
        "        pass\n",
        "\n",
        "# Concrete Product A1\n",
        "class VictorianChair(Chair):\n",
        "    def sit_on(self):\n",
        "        return \"Sitting on a Victorian Chair.\"\n",
        "\n",
        "# Concrete Product A2\n",
        "class ModernChair(Chair):\n",
        "    def sit_on(self):\n",
        "        return \"Sitting on a Modern Chair.\"\n",
        "\n",
        "# Abstract Product B\n",
        "class Sofa:\n",
        "    def lie_on(self):\n",
        "        pass\n",
        "\n",
        "# Concrete Product B1\n",
        "class VictorianSofa(Sofa):\n",
        "    def lie_on(self):\n",
        "        return \"Lying on a Victorian Sofa.\"\n",
        "\n",
        "# Concrete Product B2\n",
        "class ModernSofa(Sofa):\n",
        "    def lie_on(self):\n",
        "        return \"Lying on a Modern Sofa.\"\n",
        "\n",
        "# Abstract Factory\n",
        "class FurnitureFactory:\n",
        "    def create_chair(self):\n",
        "        pass\n",
        "\n",
        "    def create_sofa(self):\n",
        "        pass\n",
        "\n",
        "# Concrete Factory 1 - Creates Victorian furniture\n",
        "class VictorianFurnitureFactory(FurnitureFactory):\n",
        "    def create_chair(self):\n",
        "        return VictorianChair()\n",
        "\n",
        "    def create_sofa(self):\n",
        "        return VictorianSofa()\n",
        "\n",
        "# Concrete Factory 2 - Creates Modern furniture\n",
        "class ModernFurnitureFactory(FurnitureFactory):\n",
        "    def create_chair(self):\n",
        "        return ModernChair()\n",
        "\n",
        "    def create_sofa(self):\n",
        "        return ModernSofa()\n",
        "\n",
        "# Client code\n",
        "def client_code(factory: FurnitureFactory):\n",
        "    chair = factory.create_chair()\n",
        "    sofa = factory.create_sofa()\n",
        "\n",
        "    print(chair.sit_on())  # Uses the chair's method\n",
        "    print(sofa.lie_on())   # Uses the sofa's method\n",
        "\n",
        "\n",
        "#Usage\n",
        "print(\"Victorian Furniture:\")\n",
        "victorian_factory = VictorianFurnitureFactory()\n",
        "client_code(victorian_factory)\n",
        "\n",
        "print(\"\\nModern Furniture:\")\n",
        "modern_factory = ModernFurnitureFactory()\n",
        "client_code(modern_factory)"
      ],
      "metadata": {
        "id": "eheHisHV5bI2"
      },
      "execution_count": null,
      "outputs": []
    }
  ]
}