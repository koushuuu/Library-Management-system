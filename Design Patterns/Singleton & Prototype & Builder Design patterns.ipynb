{
 "cells": [
  {
   "cell_type": "markdown",
   "id": "65d37f18-1874-4fd5-9023-2396155be8d3",
   "metadata": {},
   "source": [
    "# This code is contibuted by Keerthi Kandukuri [1850374]"
   ]
  },
  {
   "cell_type": "code",
   "execution_count": 1,
   "id": "cc807c41-120f-4045-ba7b-7366c07cd6b1",
   "metadata": {},
   "outputs": [
    {
     "name": "stdout",
     "output_type": "stream",
     "text": [
      "True\n"
     ]
    }
   ],
   "source": [
    "class Singleton:\n",
    "    _instance = None\n",
    "\n",
    "    def __new__(cls):\n",
    "        if cls._instance is None:\n",
    "            cls._instance = super(Singleton, cls).__new__(cls)\n",
    "        return cls._instance\n",
    "\n",
    "\n",
    "singleton1 = Singleton()\n",
    "singleton2 = Singleton()\n",
    "\n",
    "print(singleton1 is singleton2)  \n"
   ]
  },
  {
   "cell_type": "markdown",
   "id": "82714339-6d35-48d0-89ad-fbca5ff60447",
   "metadata": {},
   "source": [
    "# singleton with a decorator2)  # Output: True\r\n"
   ]
  },
  {
   "cell_type": "code",
   "execution_count": 4,
   "id": "ecb0da02-423a-492f-b93b-4c578b6106f6",
   "metadata": {},
   "outputs": [
    {
     "name": "stdout",
     "output_type": "stream",
     "text": [
      "Creating Singleton instance\n",
      "True\n"
     ]
    }
   ],
   "source": [
    "def singleton(cls):\n",
    "    instances = {}\n",
    "\n",
    "    def get_instance(*args, **kwargs):\n",
    "        if cls not in instances:\n",
    "            instances[cls] = cls(*args, **kwargs)\n",
    "        return instances[cls]\n",
    "\n",
    "    return get_instance\n",
    "\n",
    "@singleton\n",
    "class Singleton:\n",
    "    def __init__(self):\n",
    "        print(\"Creating Singleton instance\")\n",
    "\n",
    "\n",
    "singleton1 = Singleton()\n",
    "singleton2 = Singleton()\n",
    "\n",
    "print(singleton1 is singleton2)  \n"
   ]
  },
  {
   "cell_type": "markdown",
   "id": "45a97772-4609-4abf-8684-ba415053f9b2",
   "metadata": {},
   "source": [
    "# Prototype method design pattern"
   ]
  },
  {
   "cell_type": "code",
   "execution_count": 6,
   "id": "00c4842f-df68-4d98-9661-9c9397f4a112",
   "metadata": {},
   "outputs": [
    {
     "name": "stdout",
     "output_type": "stream",
     "text": [
      "Original value: 42\n",
      "Cloned value: 42\n",
      "False\n"
     ]
    }
   ],
   "source": [
    "import copy\n",
    "\n",
    "class Prototype:\n",
    "    def __init__(self, value):\n",
    "        self.value = value\n",
    "\n",
    "    def clone(self):\n",
    "        \n",
    "        return copy.copy(self)\n",
    "\n",
    "\n",
    "original = Prototype(42)\n",
    "clone = original.clone()\n",
    "\n",
    "print(f\"Original value: {original.value}\")  \n",
    "print(f\"Cloned value: {clone.value}\")      \n",
    "print(original is clone)  \n"
   ]
  },
  {
   "cell_type": "markdown",
   "id": "e0a29fb8-c7b1-4957-a4a4-16208771abfb",
   "metadata": {},
   "source": [
    "# Prototype Pattern with Deep Copying"
   ]
  },
  {
   "cell_type": "code",
   "execution_count": 8,
   "id": "5b0bd4e7-4093-401a-b6a8-9e29d0e45ffa",
   "metadata": {},
   "outputs": [
    {
     "name": "stdout",
     "output_type": "stream",
     "text": [
      "Original value: 42, SubObject: [1, 2, 3]\n",
      "Cloned value: 42, SubObject: [1, 2, 3]\n",
      "Original SubObject after modification in clone: [1, 2, 3]\n",
      "Cloned SubObject after modification: [1, 2, 3, 4]\n"
     ]
    }
   ],
   "source": [
    "import copy\n",
    "\n",
    "class ComplexPrototype:\n",
    "    def __init__(self, value, sub_object):\n",
    "        self.value = value\n",
    "        self.sub_object = sub_object\n",
    "\n",
    "    def clone(self):\n",
    "        # Use the deepcopy method to copy both the object and any nested objects\n",
    "        return copy.deepcopy(self)\n",
    "\n",
    "class SubObject:\n",
    "    def __init__(self, sub_value):\n",
    "        self.sub_value = sub_value\n",
    "\n",
    "\n",
    "original_sub_obj = SubObject([1, 2, 3])\n",
    "original = ComplexPrototype(42, original_sub_obj)\n",
    "clone = original.clone()\n",
    "\n",
    "print(f\"Original value: {original.value}, SubObject: {original.sub_object.sub_value}\")\n",
    "print(f\"Cloned value: {clone.value}, SubObject: {clone.sub_object.sub_value}\")\n",
    "\n",
    "\n",
    "clone.sub_object.sub_value.append(4)\n",
    "print(f\"Original SubObject after modification in clone: {original.sub_object.sub_value}\")\n",
    "print(f\"Cloned SubObject after modification: {clone.sub_object.sub_value}\")\n"
   ]
  },
  {
   "cell_type": "markdown",
   "id": "be297265-b137-40c0-bffa-c9f211fda7e1",
   "metadata": {},
   "source": [
    "# Builder Design Pattern"
   ]
  },
  {
   "cell_type": "code",
   "execution_count": 10,
   "id": "2bb81eb7-928b-483d-9b6f-cf3424b61fef",
   "metadata": {},
   "outputs": [
    {
     "name": "stdout",
     "output_type": "stream",
     "text": [
      "Blue Toyota Corolla with V6 engine and 18-inch wheels\n"
     ]
    }
   ],
   "source": [
    "class Car:\n",
    "    def __init__(self):\n",
    "        self.make = None\n",
    "        self.model = None\n",
    "        self.color = None\n",
    "        self.engine = None\n",
    "        self.wheels = None\n",
    "\n",
    "    def __str__(self):\n",
    "        return f\"{self.color} {self.make} {self.model} with {self.engine} engine and {self.wheels} wheels\"\n",
    "\n",
    "\n",
    "class CarBuilder:\n",
    "    def __init__(self):\n",
    "        self.car = Car()\n",
    "\n",
    "    def set_make(self, make):\n",
    "        self.car.make = make\n",
    "        return self\n",
    "\n",
    "    def set_model(self, model):\n",
    "        self.car.model = model\n",
    "        return self\n",
    "\n",
    "    def set_color(self, color):\n",
    "        self.car.color = color\n",
    "        return self\n",
    "\n",
    "    def set_engine(self, engine):\n",
    "        self.car.engine = engine\n",
    "        return self\n",
    "\n",
    "    def set_wheels(self, wheels):\n",
    "        self.car.wheels = wheels\n",
    "        return self\n",
    "\n",
    "    def build(self):\n",
    "        return self.car\n",
    "\n",
    "\n",
    "# Usage\n",
    "builder = CarBuilder()\n",
    "\n",
    "\n",
    "car = (builder\n",
    "       .set_make(\"Toyota\")\n",
    "       .set_model(\"Corolla\")\n",
    "       .set_color(\"Blue\")\n",
    "       .set_engine(\"V6\")\n",
    "       .set_wheels(\"18-inch\")\n",
    "       .build())\n",
    "\n",
    "print(car)\n"
   ]
  },
  {
   "cell_type": "code",
   "execution_count": null,
   "id": "7d1e0745-1ad8-49dd-89ef-ccb180a7439d",
   "metadata": {},
   "outputs": [],
   "source": []
  }
 ],
 "metadata": {
  "kernelspec": {
   "display_name": "Python 3 (ipykernel)",
   "language": "python",
   "name": "python3"
  },
  "language_info": {
   "codemirror_mode": {
    "name": "ipython",
    "version": 3
   },
   "file_extension": ".py",
   "mimetype": "text/x-python",
   "name": "python",
   "nbconvert_exporter": "python",
   "pygments_lexer": "ipython3",
   "version": "3.12.4"
  }
 },
 "nbformat": 4,
 "nbformat_minor": 5
}
