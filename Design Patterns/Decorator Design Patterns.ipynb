{
 "cells": [
  {
   "cell_type": "code",
   "execution_count": null,
   "metadata": {},
   "outputs": [],
   "source": [
    "\n",
    "\"\"\"This code is contributed by Attalurin Koushik (1850557) \"\"\"\n",
    "\n",
    "\n",
    "class Coffee:\n",
    "    def cost(self):\n",
    "        return 5  # Base cost of the coffee\n",
    "\n",
    "# Decorator Base Class\n",
    "class CoffeeDecorator:\n",
    "    def __init__(self, coffee):\n",
    "        self._coffee = coffee\n",
    "\n",
    "    def cost(self):\n",
    "        return self._coffee.cost()  # Delegate cost calculation to the wrapped object\n",
    "\n",
    "# Concrete Decorators\n",
    "class MilkDecorator(CoffeeDecorator):\n",
    "    def cost(self):\n",
    "        return self._coffee.cost() + 1.5  # Adding the cost of milk\n",
    "\n",
    "class SugarDecorator(CoffeeDecorator):\n",
    "    def cost(self):\n",
    "        return self._coffee.cost() + 0.5  # Adding the cost of sugar\n",
    "\n",
    "# Usage\n",
    "if __name__ == \"__main__\":\n",
    "    # Create a basic coffee\n",
    "    my_coffee = Coffee()\n",
    "    print(\"Cost of plain coffee: $\", my_coffee.cost())\n",
    "\n",
    "    # Add milk\n",
    "    my_coffee_with_milk = MilkDecorator(my_coffee)\n",
    "    print(\"Cost of coffee with milk: $\", my_coffee_with_milk.cost())\n",
    "\n",
    "    # Add sugar\n",
    "    my_coffee_with_milk_and_sugar = SugarDecorator(my_coffee_with_milk)\n",
    "    print(\"Cost of coffee with milk and sugar: $\", my_coffee_with_milk_and_sugar.cost())\n"
   ]
  }
 ],
 "metadata": {
  "language_info": {
   "name": "python"
  },
  "orig_nbformat": 4
 },
 "nbformat": 4,
 "nbformat_minor": 2
}
