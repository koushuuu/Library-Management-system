{
 "cells": [
  {
   "cell_type": "code",
   "execution_count": 1,
   "metadata": {},
   "outputs": [
    {
     "name": "stdout",
     "output_type": "stream",
     "text": [
      "CPU is frozen.\n",
      "Loading data from 0 into memory.\n",
      "Jumping to 0.\n",
      "Executing instructions.\n"
     ]
    }
   ],
   "source": [
    "\"\"\" This codee is contributed by Attaluri Koushik (1850557) \"\"\"\n",
    "\n",
    "class CPU:\n",
    "    # Method to freeze the CPU (simulate stopping operations)\n",
    "    def freeze(self):\n",
    "        print(\"CPU is frozen.\")\n",
    "\n",
    "    # Method to jump to a specific position in memory\n",
    "    def jump(self, position):\n",
    "        print(f\"Jumping to {position}.\")\n",
    "\n",
    "    # Method to execute instructions in the CPU\n",
    "    def execute(self):\n",
    "        print(\"Executing instructions.\")\n",
    "\n",
    "\n",
    "# Subsystem class representing the Memory\n",
    "class Memory:\n",
    "    # Method to load data into memory from a specific position\n",
    "    def load(self, position, data):\n",
    "        print(f\"Loading data from {position} into memory.\")\n",
    "\n",
    "\n",
    "# Subsystem class representing the Hard Drive\n",
    "class HardDrive:\n",
    "    # Method to read data from the hard drive using Logical Block Addressing (LBA)\n",
    "    def read(self, lba, size):\n",
    "        return f\"Data read from LBA {lba} with size {size}.\"\n",
    "\n",
    "\n",
    "# Facade class that provides a simplified interface to the subsystems\n",
    "class ComputerFacade:\n",
    "    def __init__(self):\n",
    "        # Initialize subsystem classes\n",
    "        self.cpu = CPU()  # Create a CPU instance\n",
    "        self.memory = Memory()  # Create a Memory instance\n",
    "        self.hard_drive = HardDrive()  # Create a HardDrive instance\n",
    "\n",
    "    # Method to start the computer, orchestrating the subsystems\n",
    "    def start_computer(self):\n",
    "        # Steps to start the computer\n",
    "        self.cpu.freeze()  # Freeze the CPU before loading\n",
    "        # Load data from the hard drive into memory\n",
    "        self.memory.load(0, self.hard_drive.read(0, 128))\n",
    "        self.cpu.jump(0)  # Jump to the starting position in memory\n",
    "        self.cpu.execute()  # Execute the loaded instructions\n",
    "\n",
    "\n",
    "# Client code to interact with the facade\n",
    "if __name__ == \"__main__\":\n",
    "    # Create a ComputerFacade instance\n",
    "    computer = ComputerFacade()\n",
    "    # Start the computer using the facade\n",
    "    computer.start_computer()\n",
    "\n"
   ]
  }
 ],
 "metadata": {
  "kernelspec": {
   "display_name": "Python 3",
   "language": "python",
   "name": "python3"
  },
  "language_info": {
   "codemirror_mode": {
    "name": "ipython",
    "version": 3
   },
   "file_extension": ".py",
   "mimetype": "text/x-python",
   "name": "python",
   "nbconvert_exporter": "python",
   "pygments_lexer": "ipython3",
   "version": "3.10.4"
  },
  "orig_nbformat": 4
 },
 "nbformat": 4,
 "nbformat_minor": 2
}
