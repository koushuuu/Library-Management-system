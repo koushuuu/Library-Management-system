{
 "cells": [
  {
   "cell_type": "code",
   "execution_count": 1,
   "metadata": {},
   "outputs": [
    {
     "name": "stdout",
     "output_type": "stream",
     "text": [
      "Current Working Directory: c:\\Users\\koushik\\AppData\\Local\\Programs\\Microsoft VS Code\n",
      "Files in Directory:\n",
      "bin\n",
      "chrome_100_percent.pak\n",
      "chrome_200_percent.pak\n",
      "Code.exe\n",
      "Code.VisualElementsManifest.xml\n",
      "d3dcompiler_47.dll\n",
      "ffmpeg.dll\n",
      "icudtl.dat\n",
      "labels.csv\n",
      "libEGL.dll\n",
      "libGLESv2.dll\n",
      "locales\n",
      "policies\n",
      "products.csv\n",
      "products.db\n",
      "resources\n",
      "resources.pak\n",
      "snapshot_blob.bin\n",
      "tools\n",
      "unins000.dat\n",
      "unins000.exe\n",
      "unins000.msg\n",
      "v8_context_snapshot.bin\n",
      "vk_swiftshader.dll\n",
      "vk_swiftshader_icd.json\n",
      "vulkan-1.dll\n",
      "_\n",
      "Directory 'new_directory' created\n",
      "Directory 'new_directory' removed\n"
     ]
    }
   ],
   "source": [
    "import os\n",
    "\n",
    "def os_example():\n",
    "    try:\n",
    "    \n",
    "        cwd = os.getcwd()\n",
    "        print(f\"Current Working Directory: {cwd}\")\n",
    "\n",
    "        # List files in the current directory\n",
    "        files = os.listdir(cwd)\n",
    "        print(\"Files in Directory:\")\n",
    "        for file in files:\n",
    "            print(file)\n",
    "\n",
    "        new_dir = 'new_directory'\n",
    "        os.mkdir(new_dir)\n",
    "        print(f\"Directory '{new_dir}' created\")\n",
    "\n",
    "        # Remove the directory\n",
    "        os.rmdir(new_dir)\n",
    "        print(f\"Directory '{new_dir}' removed\")\n",
    "        \n",
    "    except FileExistsError:\n",
    "        print(f\"Directory '{new_dir}' already exists.\")\n",
    "    except FileNotFoundError:\n",
    "        print(f\"Directory '{new_dir}' not found.\")\n",
    "    except Exception as e:\n",
    "        print(f\"An error occurred: {e}\")\n",
    "\n",
    "os_example()\n"
   ]
  }
 ],
 "metadata": {
  "kernelspec": {
   "display_name": "Python 3",
   "language": "python",
   "name": "python3"
  },
  "language_info": {
   "codemirror_mode": {
    "name": "ipython",
    "version": 3
   },
   "file_extension": ".py",
   "mimetype": "text/x-python",
   "name": "python",
   "nbconvert_exporter": "python",
   "pygments_lexer": "ipython3",
   "version": "3.10.4"
  },
  "orig_nbformat": 4
 },
 "nbformat": 4,
 "nbformat_minor": 2
}
