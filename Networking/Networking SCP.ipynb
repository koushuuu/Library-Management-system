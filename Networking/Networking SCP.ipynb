{
 "cells": [
  {
   "cell_type": "code",
   "execution_count": 5,
   "metadata": {},
   "outputs": [
    {
     "name": "stdout",
     "output_type": "stream",
     "text": [
      "Command Output:\n",
      "\n",
      "Command Error :\n",
      "'1s-1' is not recognized as an internal or external command,\n",
      "operable program or batch file.\n",
      "\n"
     ]
    }
   ],
   "source": [
    "\"\"\" This code is contributed by Attaluri Koushik (1850557) && Esha Arankalle (1850683) \"\"\"\n",
    "\n",
    "import subprocess\n",
    "\n",
    "def run_command(command):\n",
    "    try:\n",
    "        \n",
    "        result = subprocess.run(command, shell=True, text=True, capture_output=True)\n",
    "        \n",
    "        # Print the output of the command\n",
    "        print(\"Command Output:\")\n",
    "        print(result.stdout)\n",
    "\n",
    "       \n",
    "        if result.stderr:\n",
    "            print(\"Command Error :\")\n",
    "            print(result.stderr)\n",
    "    except Exception as e:\n",
    "        print(f\"An error occurred: {e}\")\n",
    "\n",
    "run_command(\"1s-1\")\n",
    "\n"
   ]
  }
 ],
 "metadata": {
  "kernelspec": {
   "display_name": "Python 3",
   "language": "python",
   "name": "python3"
  },
  "language_info": {
   "codemirror_mode": {
    "name": "ipython",
    "version": 3
   },
   "file_extension": ".py",
   "mimetype": "text/x-python",
   "name": "python",
   "nbconvert_exporter": "python",
   "pygments_lexer": "ipython3",
   "version": "3.10.4"
  },
  "orig_nbformat": 4
 },
 "nbformat": 4,
 "nbformat_minor": 2
}
